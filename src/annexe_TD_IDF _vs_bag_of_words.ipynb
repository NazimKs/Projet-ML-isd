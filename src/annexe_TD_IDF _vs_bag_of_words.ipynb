{
 "cells": [
  {
   "cell_type": "markdown",
   "metadata": {},
   "source": [
    "## Bag of words\n",
    "\n",
    "La méthode de vectorisation Bag of Words (BoW) en NLP consiste à représenter un document textuel sous forme d'un vecteur où chaque élément correspond à la fréquence d'un mot dans le document. Cette approche ignore l'ordre des mots dans le texte et ne prend en compte que leur présence. Ainsi, chaque document est représenté par un vecteur de longueur égale au nombre total de mots dans le vocabulaire, où chaque élément du vecteur correspond à la fréquence du mot correspondant dans le document. Cette représentation permet de transformer des données textuelles en données numériques exploitables par les modèles de machine learning."
   ]
  },
  {
   "cell_type": "markdown",
   "metadata": {},
   "source": [
    "## TF-IDF \n",
    "La fréquence du terme (TF), qui mesure le nombre de fois qu'un terme apparaît dans un document. Plus un terme apparaît fréquemment dans un document, plus il est important pour ce document. L'inverse de la fréquence du document (IDF), qui mesure à quel point un terme est commun ou rare à travers tous les documents du corpus.\n",
    "\n",
    "En multipliant la fréquence du terme par l'inverse de la fréquence du document, on obtient une mesure TF-IDF qui permet de représenter l'importance d'un terme dans un document par rapport à l'ensemble du corpus. Les termes ayant une forte valeur TF-IDF sont ceux qui sont fréquents dans le document mais rares dans le corpus, ce qui les rend plus discriminants pour la recherche d'informations."
   ]
  },
  {
   "cell_type": "markdown",
   "metadata": {},
   "source": [
    "Dans ce notebook, nous essayons d'entraîner tous les modèles que nous avons testés dans le code principal. L'objectif est de déterminer s'il est intéressant d'utiliser la vectorisation Bag of Words (ou BOF) ou bien TF-IDF."
   ]
  },
  {
   "cell_type": "code",
   "execution_count": 1,
   "metadata": {},
   "outputs": [],
   "source": [
    "import pandas as pd\n",
    "import nltk\n",
    "from nltk.corpus import stopwords\n",
    "from nltk.stem import PorterStemmer, SnowballStemmer,  WordNetLemmatizer\n",
    "from nltk.tokenize import word_tokenize\n",
    "import string\n",
    "import re\n",
    "import numpy as np\n",
    "from sklearn.metrics import *\n",
    "from skimpy import skim\n",
    "from wordcloud import WordCloud\n",
    "import matplotlib.pyplot as plt\n",
    "from sklearn.feature_extraction.text import CountVectorizer, TfidfVectorizer\n",
    "from sklearn.model_selection import train_test_split, cross_val_score, KFold\n",
    "from sklearn.decomposition import PCA\n",
    "from sklearn.preprocessing import StandardScaler, MinMaxScaler\n",
    "from sklearn.naive_bayes import MultinomialNB\n",
    "from sklearn.linear_model import LogisticRegression\n",
    "from sklearn.svm import SVC\n",
    "from sklearn.ensemble import RandomForestClassifier, GradientBoostingClassifier\n",
    "from sklearn.neural_network import MLPClassifier\n",
    "import sklearn.metrics as metrics\n",
    "from xgboost import XGBClassifier\n",
    "from sklearn.naive_bayes import GaussianNB\n",
    "from sklearn.model_selection import GridSearchCV\n",
    "import warnings\n",
    "import time\n",
    "from sklearn.model_selection import train_test_split, cross_val_score, KFold\n",
    "import seaborn as sns"
   ]
  },
  {
   "cell_type": "markdown",
   "metadata": {},
   "source": [
    "Nous commençons par charger nos données à partir d'un fichier CSV."
   ]
  },
  {
   "cell_type": "code",
   "execution_count": 2,
   "metadata": {},
   "outputs": [
    {
     "data": {
      "text/html": [
       "<div>\n",
       "<style scoped>\n",
       "    .dataframe tbody tr th:only-of-type {\n",
       "        vertical-align: middle;\n",
       "    }\n",
       "\n",
       "    .dataframe tbody tr th {\n",
       "        vertical-align: top;\n",
       "    }\n",
       "\n",
       "    .dataframe thead th {\n",
       "        text-align: right;\n",
       "    }\n",
       "</style>\n",
       "<table border=\"1\" class=\"dataframe\">\n",
       "  <thead>\n",
       "    <tr style=\"text-align: right;\">\n",
       "      <th></th>\n",
       "      <th>essay_id</th>\n",
       "      <th>full_text</th>\n",
       "      <th>score</th>\n",
       "    </tr>\n",
       "  </thead>\n",
       "  <tbody>\n",
       "    <tr>\n",
       "      <th>0</th>\n",
       "      <td>000d118</td>\n",
       "      <td>Many people have car where they live. The thin...</td>\n",
       "      <td>3</td>\n",
       "    </tr>\n",
       "    <tr>\n",
       "      <th>1</th>\n",
       "      <td>000fe60</td>\n",
       "      <td>I am a scientist at NASA that is discussing th...</td>\n",
       "      <td>3</td>\n",
       "    </tr>\n",
       "    <tr>\n",
       "      <th>2</th>\n",
       "      <td>001ab80</td>\n",
       "      <td>People always wish they had the same technolog...</td>\n",
       "      <td>4</td>\n",
       "    </tr>\n",
       "    <tr>\n",
       "      <th>3</th>\n",
       "      <td>001bdc0</td>\n",
       "      <td>We all heard about Venus, the planet without a...</td>\n",
       "      <td>4</td>\n",
       "    </tr>\n",
       "    <tr>\n",
       "      <th>4</th>\n",
       "      <td>002ba53</td>\n",
       "      <td>Dear, State Senator\\r\\n\\r\\nThis is a letter to...</td>\n",
       "      <td>3</td>\n",
       "    </tr>\n",
       "    <tr>\n",
       "      <th>...</th>\n",
       "      <td>...</td>\n",
       "      <td>...</td>\n",
       "      <td>...</td>\n",
       "    </tr>\n",
       "    <tr>\n",
       "      <th>17302</th>\n",
       "      <td>ffd378d</td>\n",
       "      <td>the story \" The Challenge of Exploing Venus \" ...</td>\n",
       "      <td>2</td>\n",
       "    </tr>\n",
       "    <tr>\n",
       "      <th>17303</th>\n",
       "      <td>ffddf1f</td>\n",
       "      <td>Technology has changed a lot of ways that we l...</td>\n",
       "      <td>4</td>\n",
       "    </tr>\n",
       "    <tr>\n",
       "      <th>17304</th>\n",
       "      <td>fff016d</td>\n",
       "      <td>If you don't like sitting around all day than ...</td>\n",
       "      <td>2</td>\n",
       "    </tr>\n",
       "    <tr>\n",
       "      <th>17305</th>\n",
       "      <td>fffb49b</td>\n",
       "      <td>In \"The Challenge of Exporing Venus,\" the auth...</td>\n",
       "      <td>1</td>\n",
       "    </tr>\n",
       "    <tr>\n",
       "      <th>17306</th>\n",
       "      <td>fffed3e</td>\n",
       "      <td>Venus is worthy place to study but dangerous. ...</td>\n",
       "      <td>2</td>\n",
       "    </tr>\n",
       "  </tbody>\n",
       "</table>\n",
       "<p>17307 rows × 3 columns</p>\n",
       "</div>"
      ],
      "text/plain": [
       "      essay_id                                          full_text  score\n",
       "0      000d118  Many people have car where they live. The thin...      3\n",
       "1      000fe60  I am a scientist at NASA that is discussing th...      3\n",
       "2      001ab80  People always wish they had the same technolog...      4\n",
       "3      001bdc0  We all heard about Venus, the planet without a...      4\n",
       "4      002ba53  Dear, State Senator\\r\\n\\r\\nThis is a letter to...      3\n",
       "...        ...                                                ...    ...\n",
       "17302  ffd378d  the story \" The Challenge of Exploing Venus \" ...      2\n",
       "17303  ffddf1f  Technology has changed a lot of ways that we l...      4\n",
       "17304  fff016d  If you don't like sitting around all day than ...      2\n",
       "17305  fffb49b  In \"The Challenge of Exporing Venus,\" the auth...      1\n",
       "17306  fffed3e  Venus is worthy place to study but dangerous. ...      2\n",
       "\n",
       "[17307 rows x 3 columns]"
      ]
     },
     "execution_count": 2,
     "metadata": {},
     "output_type": "execute_result"
    }
   ],
   "source": [
    "\n",
    "df = pd.read_csv('../data/train.csv')\n",
    "df"
   ]
  },
  {
   "cell_type": "code",
   "execution_count": 3,
   "metadata": {},
   "outputs": [
    {
     "data": {
      "text/plain": [
       "0        Many people have car where they live. The thin...\n",
       "1        I am a scientist at NASA that is discussing th...\n",
       "2        People always wish they had the same technolog...\n",
       "3        We all heard about Venus, the planet without a...\n",
       "4        Dear, State Senator\\r\\n\\r\\nThis is a letter to...\n",
       "                               ...                        \n",
       "17302    the story \" The Challenge of Exploing Venus \" ...\n",
       "17303    Technology has changed a lot of ways that we l...\n",
       "17304    If you don't like sitting around all day than ...\n",
       "17305    In \"The Challenge of Exporing Venus,\" the auth...\n",
       "17306    Venus is worthy place to study but dangerous. ...\n",
       "Name: full_text, Length: 17307, dtype: object"
      ]
     },
     "execution_count": 3,
     "metadata": {},
     "output_type": "execute_result"
    }
   ],
   "source": [
    "X = df[\"full_text\"]\n",
    "X"
   ]
  },
  {
   "cell_type": "code",
   "execution_count": 4,
   "metadata": {},
   "outputs": [
    {
     "data": {
      "text/plain": [
       "0        3\n",
       "1        3\n",
       "2        4\n",
       "3        4\n",
       "4        3\n",
       "        ..\n",
       "17302    2\n",
       "17303    4\n",
       "17304    2\n",
       "17305    1\n",
       "17306    2\n",
       "Name: score, Length: 17307, dtype: int64"
      ]
     },
     "execution_count": 4,
     "metadata": {},
     "output_type": "execute_result"
    }
   ],
   "source": [
    "y = df[\"score\"]\n",
    "y"
   ]
  },
  {
   "cell_type": "markdown",
   "metadata": {},
   "source": [
    "Nous procédons au prétraitement de nos données."
   ]
  },
  {
   "cell_type": "code",
   "execution_count": 5,
   "metadata": {},
   "outputs": [
    {
     "data": {
      "text/plain": [
       "0        mani peopl car live . thing n't know use car a...\n",
       "1        scientist nasa discuss `` face '' mar . explai...\n",
       "2        peopl alway wish technolog seen movi , best ne...\n",
       "3        heard venu , planet without almost oxygen eart...\n",
       "4        dear , state senat letter argu favor keep elec...\n",
       "                               ...                        \n",
       "17302    stori `` challeng explo venu `` inform piec da...\n",
       "17303    technolog chang lot way live today . nowaday p...\n",
       "17304    n't like sit around day great opportun partici...\n",
       "17305    `` challeng expor venu , '' author suggest stu...\n",
       "17306    venu worthi place studi danger . reaosn thei c...\n",
       "Name: full_text, Length: 17307, dtype: object"
      ]
     },
     "execution_count": 5,
     "metadata": {},
     "output_type": "execute_result"
    }
   ],
   "source": [
    "# Initialize the PorterStemmer\n",
    "stemmer =  PorterStemmer()\n",
    "\n",
    "def preprocess_text(text):\n",
    "    \n",
    "    # Tokenize the text into words\n",
    "    words = word_tokenize(text)\n",
    "    \n",
    "    # Remove stop words\n",
    "    stop_words = set(stopwords.words('english'))\n",
    "    filtered_words = [word for word in words if word.lower() not in stop_words]\n",
    "    \n",
    "    # Apply stemming to each word\n",
    "    stemmed_words = [stemmer.stem(word) for word in filtered_words]\n",
    "    \n",
    "    # Join the stemmed words back into a sentence\n",
    "    stemmed_text = \" \".join(stemmed_words)\n",
    "    \n",
    "    return stemmed_text\n",
    "\n",
    "X = X.apply(preprocess_text)\n",
    "X"
   ]
  },
  {
   "cell_type": "markdown",
   "metadata": {},
   "source": [
    "Ici, nous essayons de créer deux vecteurs résultants différents : le premier résulte de la vectorisation Bag of Words et le deuxième représente la vectorisation TF-IDF."
   ]
  },
  {
   "cell_type": "code",
   "execution_count": 6,
   "metadata": {},
   "outputs": [],
   "source": [
    "vectorizer = CountVectorizer(max_features=5000)\n",
    "vectors = vectorizer.fit_transform(X).toarray()\n",
    "\n",
    "scaler = StandardScaler()\n",
    "\n",
    "vectors_modified = scaler.fit_transform(vectors)\n",
    "pca = PCA(n_components=100)\n",
    "\n",
    "X1 = pca.fit_transform(vectors_modified)\n",
    "\n"
   ]
  },
  {
   "cell_type": "code",
   "execution_count": 7,
   "metadata": {},
   "outputs": [],
   "source": [
    "vectorizer2 = TfidfVectorizer(max_features=5000)\n",
    "vectors2 = vectorizer.fit_transform(X).toarray()\n",
    "\n",
    "vectors_modified2 = scaler.fit_transform(vectors2)\n",
    "pca = PCA(n_components=100)\n",
    "\n",
    "X2 = pca.fit_transform(vectors_modified2)"
   ]
  },
  {
   "cell_type": "markdown",
   "metadata": {},
   "source": [
    "\n",
    "Maintenant, nous entraînons les deux ensembles de données séparément afin de pouvoir comparer les scores d'exactitude obtenus entre les deux méthodes pour les cinq modèles différents."
   ]
  },
  {
   "cell_type": "code",
   "execution_count": 8,
   "metadata": {},
   "outputs": [],
   "source": [
    "\n",
    "X_train1, X_test1, y_train1, y_test1 = train_test_split(X1, y, test_size=0.2, random_state=42)\n",
    "\n",
    "X_train2, X_test2, y_train2, y_test2 = train_test_split(X2, y, test_size=0.2, random_state=42)"
   ]
  },
  {
   "cell_type": "code",
   "execution_count": 9,
   "metadata": {},
   "outputs": [
    {
     "name": "stdout",
     "output_type": "stream",
     "text": [
      "Logistic Regression \n",
      "Support Vector Machine \n",
      "Random Forest Classifier \n"
     ]
    },
    {
     "name": "stderr",
     "output_type": "stream",
     "text": [
      "c:\\Users\\keske\\AppData\\Local\\Programs\\Python\\Python312\\Lib\\site-packages\\sklearn\\metrics\\_classification.py:1509: UndefinedMetricWarning: Precision is ill-defined and being set to 0.0 in labels with no predicted samples. Use `zero_division` parameter to control this behavior.\n",
      "  _warn_prf(average, modifier, f\"{metric.capitalize()} is\", len(result))\n"
     ]
    },
    {
     "name": "stdout",
     "output_type": "stream",
     "text": [
      "Gradient Boosting Classifier \n",
      "MLP Classifier \n"
     ]
    }
   ],
   "source": [
    "\n",
    "\n",
    "# Initialize models\n",
    "models = [\n",
    "    ('Logistic Regression', LogisticRegression(max_iter=1000)),\n",
    "    ('Support Vector Machine', SVC(kernel='linear')),\n",
    "    ('Random Forest Classifier', RandomForestClassifier()),\n",
    "    ('Gradient Boosting Classifier', GradientBoostingClassifier()),\n",
    "    ('MLP Classifier', MLPClassifier(max_iter=1000))\n",
    "]\n",
    "\n",
    "accuracies = []\n",
    "precisions = []\n",
    "recalls = []\n",
    "f1s =  []\n",
    "conf_matrixs = []\n",
    "execution_times = []\n",
    "\n",
    "\n",
    "# Train and evaluate each model\n",
    "for model in models:\n",
    "    start_time = time.time()\n",
    "    print(f\"{model[0]} \")\n",
    "    model[1].fit(X_train1, y_train1)\n",
    "    end_time = time.time()\n",
    "\n",
    "    execution_times.append(end_time - start_time)\n",
    "    y_pred1 = model[1].predict(X_test1)\n",
    "\n",
    "\n",
    "    # Calculate accuracy\n",
    "    accuracy = accuracy_score(y_test1, y_pred1)\n",
    "    accuracies.append(accuracy)\n",
    "\n",
    "    # Calculate precision\n",
    "    precision = precision_score(y_test1, y_pred1, average='weighted')\n",
    "    precisions.append(precision)\n",
    "\n",
    "    # Calculate recall\n",
    "    recall = recall_score(y_test1, y_pred1, average='weighted')\n",
    "    recalls.append(recall)\n",
    "\n",
    "    # Calculate F1-score\n",
    "    f1 = f1_score(y_test1, y_pred1, average='weighted')\n",
    "    f1s.append(f1)\n",
    "\n",
    "    # Generate confusion matrix\n",
    "    conf_matrix = confusion_matrix(y_test1, y_pred1)\n",
    "    conf_matrixs.append(conf_matrix)\n",
    "\n",
    "warnings.filterwarnings(\"ignore\")"
   ]
  },
  {
   "cell_type": "code",
   "execution_count": 10,
   "metadata": {},
   "outputs": [
    {
     "name": "stdout",
     "output_type": "stream",
     "text": [
      "Logistic Regression \n",
      "Support Vector Machine \n",
      "Random Forest Classifier \n",
      "Gradient Boosting Classifier \n",
      "MLP Classifier \n"
     ]
    }
   ],
   "source": [
    "\n",
    "\n",
    "# Initialize models\n",
    "models = [\n",
    "    ('Logistic Regression', LogisticRegression(max_iter=1000)),\n",
    "    ('Support Vector Machine', SVC(kernel='linear')),\n",
    "    ('Random Forest Classifier', RandomForestClassifier()),\n",
    "    ('Gradient Boosting Classifier', GradientBoostingClassifier()),\n",
    "    ('MLP Classifier', MLPClassifier(max_iter=1000))\n",
    "]\n",
    "\n",
    "accuracies2 = []\n",
    "precisions2 = []\n",
    "recalls2 = []\n",
    "f1s2 =  []\n",
    "conf_matrixs2 = []\n",
    "execution_times2 = []\n",
    "\n",
    "\n",
    "# Train and evaluate each model\n",
    "for model in models:\n",
    "    start_time = time.time()\n",
    "    print(f\"{model[0]} \")\n",
    "    model[1].fit(X_train2, y_train2)\n",
    "    end_time = time.time()\n",
    "\n",
    "    execution_times.append(end_time - start_time)\n",
    "    y_pred2 = model[1].predict(X_test2)\n",
    "\n",
    "\n",
    "    # Calculate accuracy\n",
    "    accuracy = accuracy_score(y_test2, y_pred2)\n",
    "    accuracies2.append(accuracy)\n",
    "\n",
    "    # Calculate precision\n",
    "    precision = precision_score(y_test2, y_pred2, average='weighted')\n",
    "    precisions2.append(precision)\n",
    "\n",
    "    # Calculate recall\n",
    "    recall = recall_score(y_test2, y_pred2, average='weighted')\n",
    "    recalls2.append(recall)\n",
    "\n",
    "    # Calculate F1-score\n",
    "    f1 = f1_score(y_test2, y_pred2, average='weighted')\n",
    "    f1s2.append(f1)\n",
    "\n",
    "    # Generate confusion matrix\n",
    "    conf_matrix = confusion_matrix(y_test2, y_pred2)\n",
    "    conf_matrixs2.append(conf_matrix)\n",
    "\n",
    "warnings.filterwarnings(\"ignore\")"
   ]
  },
  {
   "cell_type": "markdown",
   "metadata": {},
   "source": [
    "Voici un diagramme comparatif des différentes valeurs d'accuracy entre les cinq modèles différents."
   ]
  },
  {
   "cell_type": "code",
   "execution_count": 11,
   "metadata": {},
   "outputs": [
    {
     "data": {
      "image/png": "[encoded data removed]",
      "text/plain": [
       "<Figure size 1000x600 with 1 Axes>"
      ]
     },
     "metadata": {},
     "output_type": "display_data"
    }
   ],
   "source": [
    "x = np.arange(len(models))\n",
    "width = 0.35  # Largeur des barres\n",
    "\n",
    "# Création du plot\n",
    "fig, ax = plt.subplots(figsize=(10, 6))\n",
    "bars1 = ax.bar(x - width/2, accuracies, width, label='BOW')\n",
    "bars2 = ax.bar(x + width/2, accuracies2, width, label='TF-TDF')\n",
    "\n",
    "ax.set_ylim(0.3)\n",
    "\n",
    "# Ajout des étiquettes, des titres, et des légendes\n",
    "ax.set_xlabel('Models')\n",
    "ax.set_ylabel('Accuracies')\n",
    "ax.set_title('Comparison of Accuracies between BOW  and TF-IDF')\n",
    "ax.set_xticks(x)\n",
    "ax.set_xticklabels([model[0] for model in models])\n",
    "ax.legend()\n",
    "\n",
    "# Affichage du plot\n",
    "plt.tight_layout()\n",
    "plt.show()"
   ]
  },
  {
   "cell_type": "markdown",
   "metadata": {},
   "source": [
    "## Conclusion : "
   ]
  },
  {
   "cell_type": "markdown",
   "metadata": {},
   "source": [
    "\n",
    "Après avoir testé les deux méthodes de NLP, à savoir Bag of Words et TF-IDF, il est intéressant de constater que la méthode Bag of Words semble avoir obtenu des performances d'accuracy légèrement supérieures à celles de TF-IDF. Cette observation peut être attribuée à plusieurs facteurs.\n",
    "\n",
    "Tout d'abord, la méthode Bag of Words est plus simple et directe, consistant simplement à compter les occurrences de chaque mot dans un document, sans prendre en compte leur importance relative. Cela peut être bénéfique dans certains cas, notamment lorsque les documents sont relativement courts et que la fréquence des mots est un indicateur significatif de leur pertinence.\n",
    "\n",
    "D'autre part, TF-IDF, en prenant en compte à la fois la fréquence des mots et leur importance dans le corpus entier, peut être plus efficace pour gérer des documents plus longs ou des ensembles de données où la fréquence des mots peut varier considérablement. Cependant, cette approche peut également être plus sensible au bruit et aux mots peu fréquents qui peuvent introduire du biais dans la représentation des données.\n",
    "\n",
    "Dans notre cas, la nature des données ou la spécificité du problème peuvent favoriser la simplicité et la robustesse de la méthode Bag of Words, conduisant à des performances légèrement supérieures en termes d'accuracy. Cela souligne l'importance de choisir la méthode qui convient le mieux au contexte spécifique de chaque problème de NLP, en tenant compte de divers facteurs tels que la longueur des documents, la distribution des mots et la complexité du langage."
   ]
  }
 ],
 "metadata": {
  "kernelspec": {
   "display_name": "Python 3",
   "language": "python",
   "name": "python3"
  },
  "language_info": {
   "codemirror_mode": {
    "name": "ipython",
    "version": 3
   },
   "file_extension": ".py",
   "mimetype": "text/x-python",
   "name": "python",
   "nbconvert_exporter": "python",
   "pygments_lexer": "ipython3",
   "version": "3.12.3"
  }
 },
 "nbformat": 4,
 "nbformat_minor": 2
}
